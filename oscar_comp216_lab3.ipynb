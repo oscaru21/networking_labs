{
  "nbformat": 4,
  "nbformat_minor": 0,
  "metadata": {
    "colab": {
      "provenance": []
    },
    "kernelspec": {
      "name": "python3",
      "display_name": "Python 3"
    },
    "language_info": {
      "name": "python"
    }
  },
  "cells": [
    {
      "cell_type": "markdown",
      "source": [
        "## Shopper class"
      ],
      "metadata": {
        "id": "4GFIOB6eG2td"
      }
    },
    {
      "cell_type": "code",
      "source": [
        "class Shopper:\n",
        "  # class variables\n",
        "  __prices = { 'apple': 1.99, 'bread': 2.19, 'milk': 4.96, 'pepper': 1.25 }\n",
        "  __sale_items = 'pepper banana'.split()\n",
        "  __credit_threshold = 6\n",
        "  __default_price = 2.50\n",
        "  __volume_discount = 0.9\n",
        "  __sales_discount = 0.85\n",
        "  name = ''\n",
        "\n",
        "  def __init__(self, name, balance) -> None:\n",
        "    self.name = name\n",
        "    self.__balance = balance\n",
        "    self.__purchases = [] # [(item_name, amount_paid), ...]\n",
        "\n",
        "  def purchase(self, items):\n",
        "    total = 0\n",
        "    for item in items:\n",
        "      price = round(Shopper.__prices.get(item,  Shopper.__default_price),2)\n",
        "\n",
        "      if item in Shopper.__sale_items:\n",
        "        price *= Shopper.__sales_discount\n",
        "\n",
        "      total += price\n",
        "      self.__purchases.append(tuple((item, price)))\n",
        "\n",
        "    if total > Shopper.__credit_threshold:\n",
        "      total *= Shopper.__volume_discount\n",
        "      #self.__purchases = [(name, Shopper.__volume_discount * price) for (name, price) in self.__purchases]\n",
        "    self.__balance -= total\n",
        "\n",
        "  @staticmethod\n",
        "  def price_list():\n",
        "    return Shopper.__prices\n",
        "\n",
        "  @staticmethod\n",
        "  def sale_items():\n",
        "    return Shopper.__sale_items\n",
        "\n",
        "  def __str__(self) -> str:\n",
        "    message = f\"{self.name} cash in hand ${float(round(self.__balance,2))}\\n  items:\\n  {self.__purchases}\"\n",
        "    return message\n",
        "\n",
        "\n",
        "  \n"
      ],
      "metadata": {
        "id": "vmrmf-bZG2H8"
      },
      "execution_count": 43,
      "outputs": []
    },
    {
      "cell_type": "markdown",
      "source": [
        "\n",
        "### Test Harness"
      ],
      "metadata": {
        "id": "-SlNWpM0G4gO"
      }
    },
    {
      "cell_type": "code",
      "execution_count": 44,
      "metadata": {
        "id": "6w5jvJtj1pVC",
        "colab": {
          "base_uri": "https://localhost:8080/"
        },
        "outputId": "0c8c65a4-2e61-4bb1-d16e-1e0d9e529d3f"
      },
      "outputs": [
        {
          "output_type": "stream",
          "name": "stdout",
          "text": [
            "Price dict: {'apple': 1.99, 'bread': 2.19, 'milk': 4.96, 'pepper': 1.25}\n",
            "Sales list: ['pepper', 'banana']\n",
            "\n",
            "Narendra cash in hand $20.0\n",
            "  items:\n",
            "  []\n",
            "\n",
            "Narendra is purchasing: ['bread', 'milk']\n",
            "Narendra cash in hand $13.56\n",
            "  items:\n",
            "  [('bread', 2.19), ('milk', 4.96)]\n",
            "\n",
            "Narendra is purchasing: ['apple', 'pepper', 'cauliflower']\n",
            "Narendra cash in hand $8.01\n",
            "  items:\n",
            "  [('bread', 2.19), ('milk', 4.96), ('apple', 1.99), ('pepper', 1.0625), ('cauliflower', 2.5)]\n",
            "\n",
            "Public members of the class: ['name', 'price_list', 'purchase', 'sale_items']\n",
            "Public properties: ['name']\n",
            "Public methods: ['price_list', 'purchase', 'sale_items']\n"
          ]
        }
      ],
      "source": [
        "print(f'Price dict: {Shopper.price_list()}')\n",
        "print(f'Sales list: {Shopper.sale_items()}')\n",
        "\n",
        "nar = Shopper('Narendra', 20)     #create a shopper object\n",
        "print(f'\\n{nar}')                 #display the object\n",
        "\n",
        "items = 'bread milk'.split()      #list of items to buy\n",
        "print(f'\\n{nar.name} is purchasing: {items}')\n",
        "nar.purchase(items)               #buy the items\n",
        "print(f'{nar}')                   #display the object\n",
        "\n",
        "items = 'apple pepper cauliflower'.split()\n",
        "print(f'\\n{nar.name} is purchasing: {items}')\n",
        "nar.purchase(items)\n",
        "print(f'{nar}')                   #display the object\n",
        "\n",
        "#you don't need to understand the code below\n",
        "#it is for verification purposes\n",
        "members = [member for member in dir(Shopper) if not member.startswith('_')]\n",
        "print(f'\\nPublic members of the class: {members}')\n",
        "properties = [member for member in members if not callable(getattr(Shopper, member))]\n",
        "print(f'Public properties: {properties}')   \n",
        "methods = [member for member in members if callable(getattr(Shopper, member))]\n",
        "print(f'Public methods: {methods}') "
      ]
    }
  ]
}