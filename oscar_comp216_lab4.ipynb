{
  "nbformat": 4,
  "nbformat_minor": 0,
  "metadata": {
    "colab": {
      "provenance": []
    },
    "kernelspec": {
      "name": "python3",
      "display_name": "Python 3"
    },
    "language_info": {
      "name": "python"
    }
  },
  "cells": [
    {
      "cell_type": "code",
      "execution_count": 13,
      "metadata": {
        "id": "N2aD5rIoZBXs"
      },
      "outputs": [],
      "source": [
        "import time\n",
        "import threading\n",
        "\n",
        "def function_one(name):\n",
        "  for i in range(100_000):\n",
        "    time.sleep(0.0001)\n",
        "  print(f\"function_one: {str(name)} completed!\")\n",
        "\n",
        "def function_two(n):\n",
        "  current_time = time.time()\n",
        "  for i in range(n):\n",
        "    function_one(i)\n",
        "  execution_time = time.time() - current_time\n",
        "  print(f\"Result: function_two execution time = {int(execution_time)}s\")\n",
        "\n",
        "def function_three(n):\n",
        "  current_time = time.time()\n",
        "  threads = []\n",
        "  for i in range(n):\n",
        "    thread = threading.Thread(target=function_one, args=[i])\n",
        "    threads.append(thread)\n",
        "    thread.start()\n",
        "\n",
        "  for thread in threads:\n",
        "    thread.join()\n",
        "  \n",
        "  execution_time = time.time() - current_time\n",
        "  print(f\"Result: function_three execution time = {int(execution_time)}s\")\n",
        "\n",
        "  \n",
        "\n"
      ]
    },
    {
      "cell_type": "code",
      "source": [
        "function_two(10)\n",
        "function_three(10)"
      ],
      "metadata": {
        "colab": {
          "base_uri": "https://localhost:8080/"
        },
        "id": "QVvjfrX9b4yp",
        "outputId": "7cd3055c-e6da-4230-8b2d-e3fc15ea88f7"
      },
      "execution_count": 15,
      "outputs": [
        {
          "output_type": "stream",
          "name": "stdout",
          "text": [
            "function_one: 0 completed!\n",
            "function_one: 1 completed!\n",
            "function_one: 2 completed!\n",
            "function_one: 3 completed!\n",
            "function_one: 4 completed!\n",
            "function_one: 5 completed!\n",
            "function_one: 6 completed!\n",
            "function_one: 7 completed!\n",
            "function_one: 8 completed!\n",
            "function_one: 9 completed!\n",
            "Result: function_two execution time = 173s\n",
            "function_one: 0 completed!\n",
            "function_one: 7 completed!\n",
            "function_one: 2 completed!\n",
            "function_one: 9 completed!\n",
            "function_one: 6 completed!\n",
            "function_one: 1 completed!\n",
            "function_one: 5 completed!\n",
            "function_one: 8 completed!\n",
            "function_one: 4 completed!\n",
            "function_one: 3 completed!\n",
            "Result: function_three execution time = 18s\n"
          ]
        }
      ]
    }
  ]
}