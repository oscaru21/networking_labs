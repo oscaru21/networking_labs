{
  "nbformat": 4,
  "nbformat_minor": 0,
  "metadata": {
    "colab": {
      "provenance": []
    },
    "kernelspec": {
      "name": "python3",
      "display_name": "Python 3"
    },
    "language_info": {
      "name": "python"
    }
  },
  "cells": [
    {
      "cell_type": "markdown",
      "source": [
        "## Assignment 1: Pizza Class"
      ],
      "metadata": {
        "id": "jB0UZC1bML2g"
      }
    },
    {
      "cell_type": "code",
      "execution_count": 10,
      "metadata": {
        "id": "ptuRxnd4AbAN"
      },
      "outputs": [],
      "source": [
        "\"\"\"\n",
        "Student: Oscar Umana\n",
        "Date: 2023-02-02\n",
        "\"\"\"\n",
        "class Pizza:\n",
        "  __valid_sizes = ['small', 'medium', 'large', 'x-large']\n",
        "  __prices = {'small': 6.49, 'medium': 8.49, 'large': 10.49, 'x-large': 13.49}\n",
        "\n",
        "  def __init__(self, size='medium', toppings=['cheese']) -> None:\n",
        "    self.size = size\n",
        "    self.__toppings = toppings\n",
        "\n",
        "  @property\n",
        "  def size(self):\n",
        "    return self.__size\n",
        "\n",
        "  @size.setter\n",
        "  def size(self, value):\n",
        "    if value not in Pizza.__valid_sizes:\n",
        "      raise ValueError(f\"ERROR: {value} is not a valid size for a pizza\")\n",
        "    self.__size = value\n",
        "\n",
        "  def add(self, toppings):\n",
        "    for topping in toppings:\n",
        "      self.__toppings.append(topping)\n",
        "\n",
        "  @property\n",
        "  def price(self):\n",
        "    return Pizza.__prices[self.size] + 0.5*len(self.__toppings)\n",
        "\n",
        "  def __str__(self) -> str:\n",
        "    return f\"{self.size} pizza with {self.__toppings} for ${round(self.price,2)}\"\n",
        "\n"
      ]
    },
    {
      "cell_type": "code",
      "source": [
        "print(f'Creating a default pizza')\n",
        "p = Pizza()\n",
        "print(p)\n",
        "\n",
        "toppings = 'cheese olive'.split()\n",
        "print(f'\\nAdding topping: {toppings}')\n",
        "p.add(toppings=toppings)\n",
        "print(p)\n",
        "\n",
        "print(f'\\nCreating a new pizza')\n",
        "p = Pizza('large', 'cheese pepper'.split())\n",
        "print(p)\n",
        "\n",
        "toppings = ['pineapple', 'mushroom']\n",
        "print(f'\\nAdding topping: {toppings}')\n",
        "p.add(toppings)\n",
        "print(p)\n",
        "\n",
        "size = 'x-large'\n",
        "p.size = size\n",
        "print(f'\\nChanging order size to {size}')\n",
        "print(p)\n",
        "\n",
        "size = 'gigantic'\n",
        "print(f'\\nChanging order size to {size}')\n",
        "try:\n",
        "  p.size = size\n",
        "except ValueError as err:\n",
        "  print(err)"
      ],
      "metadata": {
        "colab": {
          "base_uri": "https://localhost:8080/"
        },
        "id": "Wui8mAH6AfgX",
        "outputId": "307e41d6-c1a9-4437-9b24-eb91c5c2d83b"
      },
      "execution_count": 11,
      "outputs": [
        {
          "output_type": "stream",
          "name": "stdout",
          "text": [
            "Creating a default pizza\n",
            "medium pizza with ['cheese'] for $8.99\n",
            "\n",
            "Adding topping: ['cheese', 'olive']\n",
            "medium pizza with ['cheese', 'cheese', 'olive'] for $9.99\n",
            "\n",
            "Creating a new pizza\n",
            "large pizza with ['cheese', 'pepper'] for $11.49\n",
            "\n",
            "Adding topping: ['pineapple', 'mushroom']\n",
            "large pizza with ['cheese', 'pepper', 'pineapple', 'mushroom'] for $12.49\n",
            "\n",
            "Changing order size to x-large\n",
            "x-large pizza with ['cheese', 'pepper', 'pineapple', 'mushroom'] for $15.49\n",
            "\n",
            "Changing order size to gigantic\n",
            "ERROR: gigantic is not a valid size for a pizza\n"
          ]
        }
      ]
    }
  ]
}