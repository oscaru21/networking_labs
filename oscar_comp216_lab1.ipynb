{
  "cells": [
    {
      "cell_type": "markdown",
      "metadata": {
        "id": "qIRdAjCynKxt"
      },
      "source": [
        "<H1>COMP216 Lab exercise 1</h1>"
      ]
    },
    {
      "cell_type": "markdown",
      "metadata": {
        "id": "lJ0h4EvZnKxx"
      },
      "source": [
        "<h5> Please insert your name, student number, course and date </h5>\n",
        "\n",
        "\n",
        "#Name: Oscar Umana\n",
        "\n",
        "#Student number: 301247086\n",
        "\n",
        "#Course: Networking for Software Developers\n",
        "\n",
        "#Date: 01-19-2023"
      ]
    },
    {
      "cell_type": "markdown",
      "metadata": {
        "id": "PyxdDqXTnKxy"
      },
      "source": [
        "\n",
        "\n",
        "<h3>Instructions</h3>\n",
        "\n",
        "1. Complete the exercises as far as you possibly can \n",
        "\n",
        "2. Rename the workbook to your first name  \n",
        "\n",
        "3. Make sure that the notebook is shareable\n",
        "\n",
        "4. Upload a link to the Assessment folder in brightspace  \n",
        "\n",
        "5. You code must work even if the original variable changes\n",
        "\n",
        "\n",
        "\n",
        " "
      ]
    },
    {
      "cell_type": "code",
      "execution_count": 49,
      "metadata": {
        "id": "ajRvcINZnKxy"
      },
      "outputs": [],
      "source": [
        "#imports and variables\n",
        "from random import randint\n",
        "\n",
        "pm = 'justin pierre james trudeau'\n",
        "instructor = 'John Doe'\n",
        "harry = \"You've gotta ask yourself a question: how are you today?\"\n",
        "numbers = [randint(5, 10) for _ in range(20)]\n"
      ]
    },
    {
      "cell_type": "markdown",
      "metadata": {
        "id": "MOPA6UhbnKx0"
      },
      "source": [
        "<h3> Working with sets </h3>"
      ]
    },
    {
      "cell_type": "code",
      "execution_count": 50,
      "metadata": {
        "id": "XTLyxnmQnKx0",
        "colab": {
          "base_uri": "https://localhost:8080/"
        },
        "outputId": "49c2f594-0488-4123-e316-75b08411dd11"
      },
      "outputs": [
        {
          "output_type": "stream",
          "name": "stdout",
          "text": [
            "{'J', 'n', 'D', 'e', 'h', ' ', 'o'}\n"
          ]
        }
      ],
      "source": [
        "# - 2 mark\n",
        "# create a set from the variable 'instructor' and print it\n",
        "oscar_set = set(instructor)\n",
        "print(oscar_set)\n"
      ]
    },
    {
      "cell_type": "code",
      "execution_count": 51,
      "metadata": {
        "id": "IHbUClshnKx0",
        "colab": {
          "base_uri": "https://localhost:8080/"
        },
        "outputId": "6747771b-9705-449c-9bb9-fb53673c4777"
      },
      "outputs": [
        {
          "output_type": "stream",
          "name": "stdout",
          "text": [
            "{'J', 'n', 'D', 'e', 'h', 'z', ' ', 'o'}\n"
          ]
        }
      ],
      "source": [
        "# - 2 mark\n",
        "# use the add() method to add 'z' to the set and print it\n",
        "oscar_set.add('z')\n",
        "print(oscar_set)\n"
      ]
    },
    {
      "cell_type": "code",
      "execution_count": 52,
      "metadata": {
        "id": "2OFlN61xnKx1",
        "colab": {
          "base_uri": "https://localhost:8080/"
        },
        "outputId": "1188a24e-8c2a-4ff6-bade-379e94fde311"
      },
      "outputs": [
        {
          "output_type": "stream",
          "name": "stdout",
          "text": [
            "{'J', 'n', 'D', 'e', 'h', 'z', 'o'}\n"
          ]
        }
      ],
      "source": [
        "# - 2 mark\n",
        "#use the remove() method to take ' ' from the set and print it\n",
        "oscar_set.remove(' ')\n",
        "print(oscar_set)"
      ]
    },
    {
      "cell_type": "code",
      "execution_count": 53,
      "metadata": {
        "id": "g_pr_pPpnKx1",
        "colab": {
          "base_uri": "https://localhost:8080/"
        },
        "outputId": "16e5bb09-34ce-4117-e4b3-2545e53a0af7"
      },
      "outputs": [
        {
          "output_type": "stream",
          "name": "stdout",
          "text": [
            "{'J', 'y', 'x', 'n', 'D', 'e', 'h', 'z', 'o'}\n"
          ]
        }
      ],
      "source": [
        "# - 2 mark\n",
        "#use the update() function to add 'x', 'y' and 'z' to the set  and print the result\n",
        "oscar_set.update('x', 'y', 'z')\n",
        "print(oscar_set)"
      ]
    },
    {
      "cell_type": "code",
      "execution_count": 54,
      "metadata": {
        "id": "OT528-LGnKx2",
        "colab": {
          "base_uri": "https://localhost:8080/"
        },
        "outputId": "98c2d05d-09b2-4961-cb94-85a32a5e9df7"
      },
      "outputs": [
        {
          "output_type": "stream",
          "name": "stdout",
          "text": [
            "Set Length:  9\n"
          ]
        }
      ],
      "source": [
        "# - 2 mark\n",
        "#use the len() function to get the number of elements in the set and print the result\n",
        "print('Set Length: ', len(oscar_set))"
      ]
    },
    {
      "cell_type": "markdown",
      "metadata": {
        "id": "mZhibx1rnKx2"
      },
      "source": [
        "<h3> Working with tuples </h3>"
      ]
    },
    {
      "cell_type": "code",
      "execution_count": 55,
      "metadata": {
        "id": "EpQDgpIunKx3",
        "colab": {
          "base_uri": "https://localhost:8080/"
        },
        "outputId": "6e3449fe-fdf6-43b2-a889-2f525fcc1182"
      },
      "outputs": [
        {
          "output_type": "stream",
          "name": "stdout",
          "text": [
            "('j', 'u', 's', 't', 'i', 'n', ' ', 'p', 'i', 'e', 'r', 'r', 'e', ' ', 'j', 'a', 'm', 'e', 's', ' ', 't', 'r', 'u', 'd', 'e', 'a', 'u')\n"
          ]
        }
      ],
      "source": [
        "# - 2 mark\n",
        "#create a tuple from the variable pm and print it\n",
        "oscar_tuple = tuple(pm)\n",
        "print(oscar_tuple)"
      ]
    },
    {
      "cell_type": "code",
      "execution_count": 56,
      "metadata": {
        "id": "RScD8Ef-nKx3",
        "colab": {
          "base_uri": "https://localhost:8080/"
        },
        "outputId": "7a471b53-8ddf-4311-bc46-8a6ccad1f078"
      },
      "outputs": [
        {
          "output_type": "stream",
          "name": "stdout",
          "text": [
            "There are 4 e's in the tuple\n",
            "You can find a at index 15 of the tuple\n",
            "There are 27 elements in the tuple\n"
          ]
        }
      ],
      "source": [
        "# - 6 marks\n",
        "# write the statement to produced the following lines of output\n",
        "\n",
        "## There are 4 e's in the tuple                   #use the count() method\n",
        "print(f\"There are {oscar_tuple.count('e')} e's in the tuple\")\n",
        "\n",
        "## You can find a at index 15 of the tuple        #use the index() method\n",
        "print(f\"You can find a at index {oscar_tuple.index('a')} of the tuple\")\n",
        "\n",
        "## There are 27 elements in the tuple             #use the len() function\n",
        "print(f\"There are {len(oscar_tuple)} elements in the tuple\")\n"
      ]
    },
    {
      "cell_type": "code",
      "execution_count": 57,
      "metadata": {
        "id": "JMOwu-7GnKx3",
        "colab": {
          "base_uri": "https://localhost:8080/"
        },
        "outputId": "73bdafbc-ca82-4791-cfb2-8727a466e47a"
      },
      "outputs": [
        {
          "output_type": "stream",
          "name": "stdout",
          "text": [
            "Third element: s\n",
            "Fith element: i\n"
          ]
        }
      ],
      "source": [
        "# - 2 mark\n",
        "# use array-like indexing to print the third and fifth element of your tuple\n",
        "print(f\"Third element: {oscar_tuple[2]}\\nFith element: {oscar_tuple[4]}\")"
      ]
    },
    {
      "cell_type": "code",
      "source": [
        "import re\n",
        "harry = re.sub(r\"[^A-Za-z0-9]\", ' ', harry)\n",
        "harry"
      ],
      "metadata": {
        "colab": {
          "base_uri": "https://localhost:8080/",
          "height": 36
        },
        "id": "yC--W_Q77oCg",
        "outputId": "bfb820e3-a772-4bcc-89f7-5b79c2d52ff3"
      },
      "execution_count": 58,
      "outputs": [
        {
          "output_type": "execute_result",
          "data": {
            "text/plain": [
              "'You ve gotta ask yourself a question  how are you today '"
            ],
            "application/vnd.google.colaboratory.intrinsic+json": {
              "type": "string"
            }
          },
          "metadata": {},
          "execution_count": 58
        }
      ]
    },
    {
      "cell_type": "markdown",
      "metadata": {
        "id": "SfcOXC0tnKx4"
      },
      "source": [
        "<h3> Working with list </h3>"
      ]
    },
    {
      "cell_type": "code",
      "execution_count": 59,
      "metadata": {
        "id": "iP0V9ViznKx4",
        "colab": {
          "base_uri": "https://localhost:8080/"
        },
        "outputId": "135f54b6-8ba9-4d42-a607-c08a47613d97"
      },
      "outputs": [
        {
          "output_type": "stream",
          "name": "stdout",
          "text": [
            "['You', 've', 'gotta', 'ask', 'yourself', 'a', 'question', 'how', 'are', 'you', 'today']\n"
          ]
        }
      ],
      "source": [
        "# - 2 mark\n",
        "# create a list from the variable 'harry' using the split() method \n",
        "# of the string class and print it\n",
        "\n",
        "word_list = harry.split()\n",
        "print(word_list)"
      ]
    },
    {
      "cell_type": "code",
      "execution_count": 60,
      "metadata": {
        "id": "ygPOKhavnKx4",
        "colab": {
          "base_uri": "https://localhost:8080/"
        },
        "outputId": "20b40832-203e-4037-ac12-13045518f1c4"
      },
      "outputs": [
        {
          "output_type": "stream",
          "name": "stdout",
          "text": [
            "['Clint', 'You', 've', 'gotta', 'ask', 'yourself', 'a', 'how', 'are', 'you', 'today', 'Eastwood']\n"
          ]
        }
      ],
      "source": [
        "# - 4 marks\n",
        "# use the append() method once to add 'Eastwood' to the end of the  list\n",
        "word_list.append('Eastwood')\n",
        "\n",
        "# use the insert() method to add 'Clint' at the start of the  list\n",
        "word_list.insert(0, 'Clint')\n",
        "\n",
        "# use the remove() method to remove 'question' from the list\n",
        "word_list.remove('question')\n",
        "\n",
        "# print the final list\n",
        "print(word_list)"
      ]
    },
    {
      "cell_type": "code",
      "execution_count": 61,
      "metadata": {
        "id": "Y2lIGel_nKx4",
        "colab": {
          "base_uri": "https://localhost:8080/"
        },
        "outputId": "41200c95-f09f-4748-e4fc-6ffbd5e406df"
      },
      "outputs": [
        {
          "output_type": "stream",
          "name": "stdout",
          "text": [
            "['Clint', 'Eastwood', 'You', 'a', 'are', 'ask', 'gotta', 'how', 'today', 've', 'you', 'yourself']\n",
            "['yourself', 'you', 've', 'today', 'how', 'gotta', 'ask', 'are', 'a', 'You', 'Eastwood', 'Clint']\n"
          ]
        }
      ],
      "source": [
        "# - 4 marks\n",
        "# use the sort() method to order the  list\n",
        "word_list.sort()\n",
        "# print the list\n",
        "print(word_list)\n",
        "# use the reverse() method to reverse the list\n",
        "word_list.reverse()\n",
        "# print the final list\n",
        "print(word_list)"
      ]
    },
    {
      "cell_type": "markdown",
      "metadata": {
        "id": "-fckR6BQnKx5"
      },
      "source": [
        "<h3> Working with dictionary </h3>"
      ]
    },
    {
      "cell_type": "code",
      "execution_count": 62,
      "metadata": {
        "id": "6S-ckDpTnKx5"
      },
      "outputs": [],
      "source": [
        "#use the following dictionary for your exercises\n",
        "d = { \n",
        "    3462: 'Artificial Intelligence', \n",
        "    3468: 'Software Engineering Technician', \n",
        "    3469: 'Software Engineering Technology', \n",
        "    3472: 'Artificial Intelligence (FT)', \n",
        "    3478: 'Software Engineering Technician (FT)', \n",
        "    3528: 'Health Informatics Technology (FT)', \n",
        "    3609: 'Game - Programming', \n",
        "    3668: 'Health Informatics Technology', \n",
        "    3679: 'Game - Programming (FT)'}\n",
        "    "
      ]
    },
    {
      "cell_type": "code",
      "execution_count": 63,
      "metadata": {
        "id": "0kb4o8P-nKx5",
        "colab": {
          "base_uri": "https://localhost:8080/"
        },
        "outputId": "98db7a37-5e80-481e-cd93-eefa55d7d54a"
      },
      "outputs": [
        {
          "output_type": "stream",
          "name": "stdout",
          "text": [
            "{3462: 'Artificial Intelligence', 3468: 'Software Engineering Technician', 3469: 'Software Engineering Technology', 3472: 'Artificial Intelligence (FT)', 3478: 'Software Engineering Technician (FT)', 3528: 'Health Informatics Technology (FT)', 3609: 'Game - Programming', 3668: 'Health Informatics Technology', 3679: 'Game - Programming (FT)'}\n"
          ]
        }
      ],
      "source": [
        "# - 2 mark\n",
        "# display the dictionary\n",
        "print(d)"
      ]
    },
    {
      "cell_type": "code",
      "execution_count": 64,
      "metadata": {
        "id": "Y_dRh6jJnKx5",
        "colab": {
          "base_uri": "https://localhost:8080/"
        },
        "outputId": "8fe2afc0-0133-4612-cc9e-ff523d4eb3d3"
      },
      "outputs": [
        {
          "output_type": "stream",
          "name": "stdout",
          "text": [
            "dict_keys([3462, 3468, 3469, 3472, 3478, 3528, 3609, 3668, 3679])\n",
            "dict_values(['Artificial Intelligence', 'Software Engineering Technician', 'Software Engineering Technology', 'Artificial Intelligence (FT)', 'Software Engineering Technician (FT)', 'Health Informatics Technology (FT)', 'Game - Programming', 'Health Informatics Technology', 'Game - Programming (FT)'])\n"
          ]
        }
      ],
      "source": [
        "# - 4 mark\n",
        "# use the keys() and values() method to display the keys and values\n",
        "print(d.keys())\n",
        "print(d.values())"
      ]
    },
    {
      "cell_type": "code",
      "execution_count": 65,
      "metadata": {
        "id": "Q6CElrrNnKx6",
        "colab": {
          "base_uri": "https://localhost:8080/"
        },
        "outputId": "a00d04ec-9966-4c5b-8a5c-b992deded7ba"
      },
      "outputs": [
        {
          "output_type": "stream",
          "name": "stdout",
          "text": [
            "Artificial Intelligence\n",
            "Artificial Intelligence\n"
          ]
        }
      ],
      "source": [
        "# - 4 mark\n",
        "# Use the key-index technique to retrieve the name of program 3462\n",
        "print(d[3462])\n",
        "# Use the get() method to retrieve the name of program 3462\n",
        "print(d.get(3462))\n",
        "# It there a difference?\n",
        "# No"
      ]
    },
    {
      "cell_type": "markdown",
      "metadata": {
        "id": "QMtZVr4pnKx6"
      },
      "source": [
        "<h3> Using the enumerate function </h3>\n",
        "\n",
        "This function can enumerate both sequences like sets, tuples, strings and lists as well as mappings like dictionaries  \n",
        "The enumerate function returns a collection of tuples.  \n",
        "Each tuples is a pair comprising of the index and the value."
      ]
    },
    {
      "cell_type": "code",
      "execution_count": 66,
      "metadata": {
        "id": "5ZoKGvsunKx6",
        "colab": {
          "base_uri": "https://localhost:8080/"
        },
        "outputId": "7b5e98eb-1689-4e27-dc66-13a0d9d5cc77"
      },
      "outputs": [
        {
          "output_type": "stream",
          "name": "stdout",
          "text": [
            "<class 'set'>\n",
            "\t 0 J\n",
            "\t 1 y\n",
            "\t 2 x\n",
            "\t 3 n\n",
            "\t 4 D\n",
            "\t 5 e\n",
            "\t 6 h\n",
            "\t 7 z\n",
            "\t 8 o\n",
            "<class 'tuple'>\n",
            "\t 0 j\n",
            "\t 1 u\n",
            "\t 2 s\n",
            "\t 3 t\n",
            "\t 4 i\n",
            "\t 5 n\n",
            "\t 6  \n",
            "\t 7 p\n",
            "\t 8 i\n",
            "\t 9 e\n",
            "\t 10 r\n",
            "\t 11 r\n",
            "\t 12 e\n",
            "\t 13  \n",
            "\t 14 j\n",
            "\t 15 a\n",
            "\t 16 m\n",
            "\t 17 e\n",
            "\t 18 s\n",
            "\t 19  \n",
            "\t 20 t\n",
            "\t 21 r\n",
            "\t 22 u\n",
            "\t 23 d\n",
            "\t 24 e\n",
            "\t 25 a\n",
            "\t 26 u\n",
            "<class 'list'>\n",
            "\t 0 yourself\n",
            "\t 1 you\n",
            "\t 2 ve\n",
            "\t 3 today\n",
            "\t 4 how\n",
            "\t 5 gotta\n",
            "\t 6 ask\n",
            "\t 7 are\n",
            "\t 8 a\n",
            "\t 9 You\n",
            "\t 10 Eastwood\n",
            "\t 11 Clint\n"
          ]
        }
      ],
      "source": [
        "# - 5 mark\n",
        "# use the enumerate function to print each collection: set, tuple, list and dict\n",
        "# You must print both the position and the item in the collection\n",
        "def print_enumerate(collection):\n",
        "  print(type(collection))\n",
        "  for i, val in enumerate(collection):\n",
        "    print(\"\\t\", i, val)\n",
        "\n",
        "print_enumerate(oscar_set)\n",
        "print_enumerate(oscar_tuple)\n",
        "print_enumerate(word_list)\n"
      ]
    },
    {
      "cell_type": "code",
      "execution_count": 67,
      "metadata": {
        "id": "s-GodgNAnKx6",
        "colab": {
          "base_uri": "https://localhost:8080/"
        },
        "outputId": "19ff0a44-a151-4f2e-a4f6-40018a580364"
      },
      "outputs": [
        {
          "output_type": "stream",
          "name": "stdout",
          "text": [
            "<class 'dict_items'>\n",
            "\t 0 (3462, 'Artificial Intelligence')\n",
            "\t 1 (3468, 'Software Engineering Technician')\n",
            "\t 2 (3469, 'Software Engineering Technology')\n",
            "\t 3 (3472, 'Artificial Intelligence (FT)')\n",
            "\t 4 (3478, 'Software Engineering Technician (FT)')\n",
            "\t 5 (3528, 'Health Informatics Technology (FT)')\n",
            "\t 6 (3609, 'Game - Programming')\n",
            "\t 7 (3668, 'Health Informatics Technology')\n",
            "\t 8 (3679, 'Game - Programming (FT)')\n"
          ]
        }
      ],
      "source": [
        "# - 5 mark\n",
        "# Use the items() method of the dict class to enumerate a dictionary\n",
        "# You must print the position, the key and the value\n",
        "print_enumerate(d.items())"
      ]
    }
  ],
  "metadata": {
    "interpreter": {
      "hash": "1448b48b023bcc9c3d4a79e814720a10ca6d4244f75e0f7ce4af58f96ba2b7d3"
    },
    "kernelspec": {
      "display_name": "Python 3.9.7 64-bit ('base': conda)",
      "language": "python",
      "name": "python3"
    },
    "language_info": {
      "codemirror_mode": {
        "name": "ipython",
        "version": 3
      },
      "file_extension": ".py",
      "mimetype": "text/x-python",
      "name": "python",
      "nbconvert_exporter": "python",
      "pygments_lexer": "ipython3",
      "version": "3.9.7"
    },
    "orig_nbformat": 4,
    "colab": {
      "provenance": []
    }
  },
  "nbformat": 4,
  "nbformat_minor": 0
}