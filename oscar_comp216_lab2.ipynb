{
  "nbformat": 4,
  "nbformat_minor": 0,
  "metadata": {
    "colab": {
      "provenance": []
    },
    "kernelspec": {
      "name": "python3",
      "display_name": "Python 3"
    },
    "language_info": {
      "name": "python"
    }
  },
  "cells": [
    {
      "cell_type": "markdown",
      "source": [
        "## Pet Class"
      ],
      "metadata": {
        "id": "WfsFg5MiuzfP"
      }
    },
    {
      "cell_type": "code",
      "source": [
        "class Pet:\n",
        "  \"\"\"Pet class\"\"\"\n",
        "  def __init__(self, name, age=5):\n",
        "    self.name = name\n",
        "    self.age = age\n",
        "    self.owner = 'no one'\n",
        "    self._trained = False\n",
        "\n",
        "  def set_owner(self, name):\n",
        "    \"\"\"Sets pet owners name\"\"\"\n",
        "    self.owner = name\n",
        "\n",
        "  def train(self):\n",
        "    \"\"\"Changes _trained state\"\"\"\n",
        "    self._trained = True\n",
        "\n",
        "  def message(self) -> str:\n",
        "    \"\"\"Computes the instance message depending checking if is trained\"\"\"\n",
        "    self._message = f\"I am {'' if self._trained else 'not'} house trained and {self.owner} owns me.\"\n",
        "    return self._message\n",
        "\n",
        "  def __str__(self) -> str:\n",
        "     return f\"Hi I am {self.age}yrs and my name is {self.name}.\\n{self.message()}\""
      ],
      "metadata": {
        "id": "wjibKHA8uy95"
      },
      "execution_count": null,
      "outputs": []
    },
    {
      "cell_type": "markdown",
      "source": [
        "### Test Harness"
      ],
      "metadata": {
        "id": "BIMblv5yut_D"
      }
    },
    {
      "cell_type": "code",
      "execution_count": null,
      "metadata": {
        "colab": {
          "base_uri": "https://localhost:8080/"
        },
        "id": "2uBZydxzuaPU",
        "outputId": "6de5daf3-6e3c-4484-eedd-05b064f18264"
      },
      "outputs": [
        {
          "output_type": "stream",
          "name": "stdout",
          "text": [
            "1:Hi I am 3yrs and my name is Garfield.\n",
            "I am not house trained and no one owns me.\n",
            "2:no one\n",
            "3:Jon\n",
            "4:Hi I am 3yrs and my name is Garfield.\n",
            "I am  house trained and Jon owns me.\n",
            "\n",
            "5:Hi I am 3yrs and my name is Garfield.\n",
            "I am  house trained and Jon owns me.\n",
            "\n",
            "6:Hi I am 2yrs and my name is Beethoven.\n",
            "I am not house trained and no one owns me.\n",
            "\n",
            "7:Hi I am 5yrs and my name is Jake.\n",
            "I am not house trained and no one owns me.\n",
            "\n",
            "8:Hi I am 7yrs and my name is Stuart.\n",
            "I am not house trained and no one owns me.\n"
          ]
        }
      ],
      "source": [
        "#test harness\n",
        "garfield = Pet('Garfield', 3)\n",
        "x = 1\n",
        "print(f'{x}:{garfield}')\n",
        "x = 2\n",
        "print(f'{x}:{garfield.owner}')\n",
        "\n",
        "garfield.set_owner('Jon')\n",
        "x = 3\n",
        "print(f'{x}:{garfield.owner}')\n",
        "\n",
        "garfield.train()\n",
        "x = 4\n",
        "print(f'{x}:{garfield}')\n",
        "\n",
        "#create a list with about 4 pets\n",
        "pets = [garfield, Pet('Beethoven', 2), Pet('Jake'), Pet('Stuart', 7)]\n",
        "for p in pets:\n",
        "    x += 1\n",
        "    print(f'\\n{x}:{p}')"
      ]
    }
  ]
}